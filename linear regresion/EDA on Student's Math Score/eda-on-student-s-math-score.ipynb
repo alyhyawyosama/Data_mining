{
 "cells": [
  {
   "cell_type": "markdown",
   "id": "0a0b75b2",
   "metadata": {
    "papermill": {
     "duration": 0.044913,
     "end_time": "2022-02-26T17:38:39.147120",
     "exception": false,
     "start_time": "2022-02-26T17:38:39.102207",
     "status": "completed"
    },
    "tags": []
   },
   "source": [
    "# Import necessary package"
   ]
  },
  {
   "cell_type": "code",
   "execution_count": 1,
   "id": "341bc7bd",
   "metadata": {
    "execution": {
     "iopub.execute_input": "2022-02-26T17:38:39.247281Z",
     "iopub.status.busy": "2022-02-26T17:38:39.244782Z",
     "iopub.status.idle": "2022-02-26T17:38:53.398690Z",
     "shell.execute_reply": "2022-02-26T17:38:53.397316Z",
     "shell.execute_reply.started": "2022-02-26T17:32:31.292413Z"
    },
    "papermill": {
     "duration": 14.20763,
     "end_time": "2022-02-26T17:38:53.398887",
     "exception": false,
     "start_time": "2022-02-26T17:38:39.191257",
     "status": "completed"
    },
    "tags": []
   },
   "outputs": [
    {
     "name": "stdout",
     "output_type": "stream",
     "text": [
      "Collecting pyreadstat\r\n",
      "  Downloading pyreadstat-1.1.4-cp37-cp37m-manylinux_2_17_x86_64.manylinux2014_x86_64.whl (2.4 MB)\r\n",
      "     |████████████████████████████████| 2.4 MB 243 kB/s            \r\n",
      "\u001b[?25hRequirement already satisfied: pandas>=1.2.0 in /opt/conda/lib/python3.7/site-packages (from pyreadstat) (1.3.5)\r\n",
      "Requirement already satisfied: python-dateutil>=2.7.3 in /opt/conda/lib/python3.7/site-packages (from pandas>=1.2.0->pyreadstat) (2.8.2)\r\n",
      "Requirement already satisfied: pytz>=2017.3 in /opt/conda/lib/python3.7/site-packages (from pandas>=1.2.0->pyreadstat) (2021.3)\r\n",
      "Requirement already satisfied: numpy>=1.17.3 in /opt/conda/lib/python3.7/site-packages (from pandas>=1.2.0->pyreadstat) (1.20.3)\r\n",
      "Requirement already satisfied: six>=1.5 in /opt/conda/lib/python3.7/site-packages (from python-dateutil>=2.7.3->pandas>=1.2.0->pyreadstat) (1.16.0)\r\n",
      "Installing collected packages: pyreadstat\r\n",
      "Successfully installed pyreadstat-1.1.4\r\n",
      "\u001b[33mWARNING: Running pip as the 'root' user can result in broken permissions and conflicting behaviour with the system package manager. It is recommended to use a virtual environment instead: https://pip.pypa.io/warnings/venv\u001b[0m\r\n"
     ]
    }
   ],
   "source": [
    "!pip install pyreadstat"
   ]
  },
  {
   "cell_type": "code",
   "execution_count": 2,
   "id": "ea5c3366",
   "metadata": {
    "execution": {
     "iopub.execute_input": "2022-02-26T17:38:53.512476Z",
     "iopub.status.busy": "2022-02-26T17:38:53.511531Z",
     "iopub.status.idle": "2022-02-26T17:38:54.661181Z",
     "shell.execute_reply": "2022-02-26T17:38:54.659541Z",
     "shell.execute_reply.started": "2022-02-26T17:32:46.120821Z"
    },
    "papermill": {
     "duration": 1.206997,
     "end_time": "2022-02-26T17:38:54.661377",
     "exception": false,
     "start_time": "2022-02-26T17:38:53.454380",
     "status": "completed"
    },
    "tags": []
   },
   "outputs": [],
   "source": [
    "import pandas as pd\n",
    "import numpy as np\n",
    "import matplotlib.pyplot as plt\n",
    "import seaborn as sns"
   ]
  },
  {
   "cell_type": "markdown",
   "id": "34324900",
   "metadata": {
    "papermill": {
     "duration": 0.051757,
     "end_time": "2022-02-26T17:38:54.765566",
     "exception": false,
     "start_time": "2022-02-26T17:38:54.713809",
     "status": "completed"
    },
    "tags": []
   },
   "source": [
    "# Load the dataset"
   ]
  },
  {
   "cell_type": "code",
   "execution_count": 3,
   "id": "13a99946",
   "metadata": {
    "execution": {
     "iopub.execute_input": "2022-02-26T17:38:54.876993Z",
     "iopub.status.busy": "2022-02-26T17:38:54.875890Z",
     "iopub.status.idle": "2022-02-26T17:38:54.916555Z",
     "shell.execute_reply": "2022-02-26T17:38:54.917196Z",
     "shell.execute_reply.started": "2022-02-26T17:34:05.135944Z"
    },
    "papermill": {
     "duration": 0.099752,
     "end_time": "2022-02-26T17:38:54.917417",
     "exception": false,
     "start_time": "2022-02-26T17:38:54.817665",
     "status": "completed"
    },
    "tags": []
   },
   "outputs": [],
   "source": [
    "df = pd.read_spss(\"../input/students-math-score-for-different-teaching-style/1ResearchProjectData.sav\")"
   ]
  },
  {
   "cell_type": "code",
   "execution_count": 4,
   "id": "83d2aecd",
   "metadata": {
    "execution": {
     "iopub.execute_input": "2022-02-26T17:38:55.027759Z",
     "iopub.status.busy": "2022-02-26T17:38:55.026746Z",
     "iopub.status.idle": "2022-02-26T17:38:55.051295Z",
     "shell.execute_reply": "2022-02-26T17:38:55.051802Z",
     "shell.execute_reply.started": "2022-02-26T17:34:07.757869Z"
    },
    "papermill": {
     "duration": 0.081967,
     "end_time": "2022-02-26T17:38:55.052014",
     "exception": false,
     "start_time": "2022-02-26T17:38:54.970047",
     "status": "completed"
    },
    "tags": []
   },
   "outputs": [
    {
     "data": {
      "text/html": [
       "<div>\n",
       "<style scoped>\n",
       "    .dataframe tbody tr th:only-of-type {\n",
       "        vertical-align: middle;\n",
       "    }\n",
       "\n",
       "    .dataframe tbody tr th {\n",
       "        vertical-align: top;\n",
       "    }\n",
       "\n",
       "    .dataframe thead th {\n",
       "        text-align: right;\n",
       "    }\n",
       "</style>\n",
       "<table border=\"1\" class=\"dataframe\">\n",
       "  <thead>\n",
       "    <tr style=\"text-align: right;\">\n",
       "      <th></th>\n",
       "      <th>Student</th>\n",
       "      <th>Teacher</th>\n",
       "      <th>Gender</th>\n",
       "      <th>Ethnic</th>\n",
       "      <th>Freeredu</th>\n",
       "      <th>Score</th>\n",
       "      <th>wesson</th>\n",
       "    </tr>\n",
       "  </thead>\n",
       "  <tbody>\n",
       "    <tr>\n",
       "      <th>0</th>\n",
       "      <td>1.0</td>\n",
       "      <td>Ruger</td>\n",
       "      <td>Female</td>\n",
       "      <td>Asian</td>\n",
       "      <td>Free lunch</td>\n",
       "      <td>76.0</td>\n",
       "      <td>Ruger_Smith</td>\n",
       "    </tr>\n",
       "    <tr>\n",
       "      <th>1</th>\n",
       "      <td>2.0</td>\n",
       "      <td>Ruger</td>\n",
       "      <td>Female</td>\n",
       "      <td>Hispanic</td>\n",
       "      <td>Paid lunch</td>\n",
       "      <td>56.0</td>\n",
       "      <td>Ruger_Smith</td>\n",
       "    </tr>\n",
       "    <tr>\n",
       "      <th>2</th>\n",
       "      <td>3.0</td>\n",
       "      <td>Ruger</td>\n",
       "      <td>Female</td>\n",
       "      <td>African-American</td>\n",
       "      <td>Free lunch</td>\n",
       "      <td>34.0</td>\n",
       "      <td>Ruger_Smith</td>\n",
       "    </tr>\n",
       "    <tr>\n",
       "      <th>3</th>\n",
       "      <td>4.0</td>\n",
       "      <td>Ruger</td>\n",
       "      <td>Female</td>\n",
       "      <td>Asian</td>\n",
       "      <td>Paid lunch</td>\n",
       "      <td>59.0</td>\n",
       "      <td>Ruger_Smith</td>\n",
       "    </tr>\n",
       "    <tr>\n",
       "      <th>4</th>\n",
       "      <td>5.0</td>\n",
       "      <td>Ruger</td>\n",
       "      <td>Male</td>\n",
       "      <td>Hispanic</td>\n",
       "      <td>Free lunch</td>\n",
       "      <td>73.0</td>\n",
       "      <td>Ruger_Smith</td>\n",
       "    </tr>\n",
       "  </tbody>\n",
       "</table>\n",
       "</div>"
      ],
      "text/plain": [
       "   Student Teacher  Gender            Ethnic    Freeredu  Score       wesson\n",
       "0      1.0   Ruger  Female             Asian  Free lunch   76.0  Ruger_Smith\n",
       "1      2.0   Ruger  Female          Hispanic  Paid lunch   56.0  Ruger_Smith\n",
       "2      3.0   Ruger  Female  African-American  Free lunch   34.0  Ruger_Smith\n",
       "3      4.0   Ruger  Female             Asian  Paid lunch   59.0  Ruger_Smith\n",
       "4      5.0   Ruger    Male          Hispanic  Free lunch   73.0  Ruger_Smith"
      ]
     },
     "execution_count": 4,
     "metadata": {},
     "output_type": "execute_result"
    }
   ],
   "source": [
    "df.head()"
   ]
  },
  {
   "cell_type": "code",
   "execution_count": 5,
   "id": "4bd4d891",
   "metadata": {
    "execution": {
     "iopub.execute_input": "2022-02-26T17:38:55.165388Z",
     "iopub.status.busy": "2022-02-26T17:38:55.164344Z",
     "iopub.status.idle": "2022-02-26T17:38:55.183694Z",
     "shell.execute_reply": "2022-02-26T17:38:55.184293Z",
     "shell.execute_reply.started": "2022-02-26T17:34:10.939805Z"
    },
    "papermill": {
     "duration": 0.079949,
     "end_time": "2022-02-26T17:38:55.184506",
     "exception": false,
     "start_time": "2022-02-26T17:38:55.104557",
     "status": "completed"
    },
    "tags": []
   },
   "outputs": [
    {
     "name": "stdout",
     "output_type": "stream",
     "text": [
      "<class 'pandas.core.frame.DataFrame'>\n",
      "RangeIndex: 217 entries, 0 to 216\n",
      "Data columns (total 7 columns):\n",
      " #   Column    Non-Null Count  Dtype   \n",
      "---  ------    --------------  -----   \n",
      " 0   Student   216 non-null    float64 \n",
      " 1   Teacher   216 non-null    category\n",
      " 2   Gender    216 non-null    category\n",
      " 3   Ethnic    216 non-null    category\n",
      " 4   Freeredu  216 non-null    category\n",
      " 5   Score     216 non-null    float64 \n",
      " 6   wesson    217 non-null    category\n",
      "dtypes: category(5), float64(2)\n",
      "memory usage: 5.3 KB\n"
     ]
    }
   ],
   "source": [
    "df.info()"
   ]
  },
  {
   "cell_type": "markdown",
   "id": "c508f558",
   "metadata": {
    "papermill": {
     "duration": 0.052518,
     "end_time": "2022-02-26T17:38:55.290135",
     "exception": false,
     "start_time": "2022-02-26T17:38:55.237617",
     "status": "completed"
    },
    "tags": []
   },
   "source": [
    "# Data cleaning"
   ]
  },
  {
   "cell_type": "markdown",
   "id": "d6e06874",
   "metadata": {
    "papermill": {
     "duration": 0.053011,
     "end_time": "2022-02-26T17:38:55.398577",
     "exception": false,
     "start_time": "2022-02-26T17:38:55.345566",
     "status": "completed"
    },
    "tags": []
   },
   "source": [
    "## Remove the missing values"
   ]
  },
  {
   "cell_type": "code",
   "execution_count": 6,
   "id": "70ccab6c",
   "metadata": {
    "execution": {
     "iopub.execute_input": "2022-02-26T17:38:55.514954Z",
     "iopub.status.busy": "2022-02-26T17:38:55.513814Z",
     "iopub.status.idle": "2022-02-26T17:38:55.522388Z",
     "shell.execute_reply": "2022-02-26T17:38:55.523052Z",
     "shell.execute_reply.started": "2022-02-26T17:34:16.310890Z"
    },
    "papermill": {
     "duration": 0.071843,
     "end_time": "2022-02-26T17:38:55.523289",
     "exception": false,
     "start_time": "2022-02-26T17:38:55.451446",
     "status": "completed"
    },
    "tags": []
   },
   "outputs": [],
   "source": [
    "df.dropna(inplace = True)"
   ]
  },
  {
   "cell_type": "code",
   "execution_count": 7,
   "id": "8f19c009",
   "metadata": {
    "execution": {
     "iopub.execute_input": "2022-02-26T17:38:55.641119Z",
     "iopub.status.busy": "2022-02-26T17:38:55.640070Z",
     "iopub.status.idle": "2022-02-26T17:38:55.656397Z",
     "shell.execute_reply": "2022-02-26T17:38:55.657004Z",
     "shell.execute_reply.started": "2022-02-26T17:34:18.653771Z"
    },
    "papermill": {
     "duration": 0.074457,
     "end_time": "2022-02-26T17:38:55.657213",
     "exception": false,
     "start_time": "2022-02-26T17:38:55.582756",
     "status": "completed"
    },
    "tags": []
   },
   "outputs": [
    {
     "name": "stdout",
     "output_type": "stream",
     "text": [
      "<class 'pandas.core.frame.DataFrame'>\n",
      "Int64Index: 216 entries, 0 to 215\n",
      "Data columns (total 7 columns):\n",
      " #   Column    Non-Null Count  Dtype   \n",
      "---  ------    --------------  -----   \n",
      " 0   Student   216 non-null    float64 \n",
      " 1   Teacher   216 non-null    category\n",
      " 2   Gender    216 non-null    category\n",
      " 3   Ethnic    216 non-null    category\n",
      " 4   Freeredu  216 non-null    category\n",
      " 5   Score     216 non-null    float64 \n",
      " 6   wesson    216 non-null    category\n",
      "dtypes: category(5), float64(2)\n",
      "memory usage: 6.8 KB\n"
     ]
    }
   ],
   "source": [
    "df.info()"
   ]
  },
  {
   "cell_type": "code",
   "execution_count": 8,
   "id": "7be5cba3",
   "metadata": {
    "execution": {
     "iopub.execute_input": "2022-02-26T17:38:55.773548Z",
     "iopub.status.busy": "2022-02-26T17:38:55.772734Z",
     "iopub.status.idle": "2022-02-26T17:38:55.777523Z",
     "shell.execute_reply": "2022-02-26T17:38:55.778088Z",
     "shell.execute_reply.started": "2022-02-26T17:34:23.389760Z"
    },
    "papermill": {
     "duration": 0.063546,
     "end_time": "2022-02-26T17:38:55.778302",
     "exception": false,
     "start_time": "2022-02-26T17:38:55.714756",
     "status": "completed"
    },
    "tags": []
   },
   "outputs": [
    {
     "data": {
      "text/plain": [
       "(216, 7)"
      ]
     },
     "execution_count": 8,
     "metadata": {},
     "output_type": "execute_result"
    }
   ],
   "source": [
    "df.shape"
   ]
  },
  {
   "cell_type": "code",
   "execution_count": 9,
   "id": "7114fee8",
   "metadata": {
    "execution": {
     "iopub.execute_input": "2022-02-26T17:38:55.891781Z",
     "iopub.status.busy": "2022-02-26T17:38:55.891058Z",
     "iopub.status.idle": "2022-02-26T17:38:55.898629Z",
     "shell.execute_reply": "2022-02-26T17:38:55.899163Z",
     "shell.execute_reply.started": "2022-02-26T17:34:25.092031Z"
    },
    "papermill": {
     "duration": 0.065803,
     "end_time": "2022-02-26T17:38:55.899376",
     "exception": false,
     "start_time": "2022-02-26T17:38:55.833573",
     "status": "completed"
    },
    "tags": []
   },
   "outputs": [
    {
     "data": {
      "text/plain": [
       "Student     0\n",
       "Teacher     0\n",
       "Gender      0\n",
       "Ethnic      0\n",
       "Freeredu    0\n",
       "Score       0\n",
       "wesson      0\n",
       "dtype: int64"
      ]
     },
     "execution_count": 9,
     "metadata": {},
     "output_type": "execute_result"
    }
   ],
   "source": [
    "df.isnull().sum()"
   ]
  },
  {
   "cell_type": "markdown",
   "id": "075e63cf",
   "metadata": {
    "papermill": {
     "duration": 0.055158,
     "end_time": "2022-02-26T17:38:56.009648",
     "exception": false,
     "start_time": "2022-02-26T17:38:55.954490",
     "status": "completed"
    },
    "tags": []
   },
   "source": [
    "## Add method columns"
   ]
  },
  {
   "cell_type": "code",
   "execution_count": 10,
   "id": "790a34b9",
   "metadata": {
    "execution": {
     "iopub.execute_input": "2022-02-26T17:38:56.124296Z",
     "iopub.status.busy": "2022-02-26T17:38:56.123568Z",
     "iopub.status.idle": "2022-02-26T17:38:56.129201Z",
     "shell.execute_reply": "2022-02-26T17:38:56.129686Z",
     "shell.execute_reply.started": "2022-02-26T17:34:30.588942Z"
    },
    "papermill": {
     "duration": 0.065166,
     "end_time": "2022-02-26T17:38:56.129897",
     "exception": false,
     "start_time": "2022-02-26T17:38:56.064731",
     "status": "completed"
    },
    "tags": []
   },
   "outputs": [],
   "source": [
    "df['Method'] = df['wesson'].apply(lambda x: 'Standard' if 'Ruger_Smith' in x else 'Traditional')"
   ]
  },
  {
   "cell_type": "code",
   "execution_count": 11,
   "id": "9ff64e79",
   "metadata": {
    "execution": {
     "iopub.execute_input": "2022-02-26T17:38:56.247247Z",
     "iopub.status.busy": "2022-02-26T17:38:56.246527Z",
     "iopub.status.idle": "2022-02-26T17:38:56.261577Z",
     "shell.execute_reply": "2022-02-26T17:38:56.262139Z",
     "shell.execute_reply.started": "2022-02-26T17:34:33.291168Z"
    },
    "papermill": {
     "duration": 0.07604,
     "end_time": "2022-02-26T17:38:56.262368",
     "exception": false,
     "start_time": "2022-02-26T17:38:56.186328",
     "status": "completed"
    },
    "tags": []
   },
   "outputs": [
    {
     "data": {
      "text/html": [
       "<div>\n",
       "<style scoped>\n",
       "    .dataframe tbody tr th:only-of-type {\n",
       "        vertical-align: middle;\n",
       "    }\n",
       "\n",
       "    .dataframe tbody tr th {\n",
       "        vertical-align: top;\n",
       "    }\n",
       "\n",
       "    .dataframe thead th {\n",
       "        text-align: right;\n",
       "    }\n",
       "</style>\n",
       "<table border=\"1\" class=\"dataframe\">\n",
       "  <thead>\n",
       "    <tr style=\"text-align: right;\">\n",
       "      <th></th>\n",
       "      <th>Student</th>\n",
       "      <th>Teacher</th>\n",
       "      <th>Gender</th>\n",
       "      <th>Ethnic</th>\n",
       "      <th>Freeredu</th>\n",
       "      <th>Score</th>\n",
       "      <th>wesson</th>\n",
       "      <th>Method</th>\n",
       "    </tr>\n",
       "  </thead>\n",
       "  <tbody>\n",
       "    <tr>\n",
       "      <th>0</th>\n",
       "      <td>1.0</td>\n",
       "      <td>Ruger</td>\n",
       "      <td>Female</td>\n",
       "      <td>Asian</td>\n",
       "      <td>Free lunch</td>\n",
       "      <td>76.0</td>\n",
       "      <td>Ruger_Smith</td>\n",
       "      <td>Standard</td>\n",
       "    </tr>\n",
       "    <tr>\n",
       "      <th>1</th>\n",
       "      <td>2.0</td>\n",
       "      <td>Ruger</td>\n",
       "      <td>Female</td>\n",
       "      <td>Hispanic</td>\n",
       "      <td>Paid lunch</td>\n",
       "      <td>56.0</td>\n",
       "      <td>Ruger_Smith</td>\n",
       "      <td>Standard</td>\n",
       "    </tr>\n",
       "    <tr>\n",
       "      <th>2</th>\n",
       "      <td>3.0</td>\n",
       "      <td>Ruger</td>\n",
       "      <td>Female</td>\n",
       "      <td>African-American</td>\n",
       "      <td>Free lunch</td>\n",
       "      <td>34.0</td>\n",
       "      <td>Ruger_Smith</td>\n",
       "      <td>Standard</td>\n",
       "    </tr>\n",
       "    <tr>\n",
       "      <th>3</th>\n",
       "      <td>4.0</td>\n",
       "      <td>Ruger</td>\n",
       "      <td>Female</td>\n",
       "      <td>Asian</td>\n",
       "      <td>Paid lunch</td>\n",
       "      <td>59.0</td>\n",
       "      <td>Ruger_Smith</td>\n",
       "      <td>Standard</td>\n",
       "    </tr>\n",
       "    <tr>\n",
       "      <th>4</th>\n",
       "      <td>5.0</td>\n",
       "      <td>Ruger</td>\n",
       "      <td>Male</td>\n",
       "      <td>Hispanic</td>\n",
       "      <td>Free lunch</td>\n",
       "      <td>73.0</td>\n",
       "      <td>Ruger_Smith</td>\n",
       "      <td>Standard</td>\n",
       "    </tr>\n",
       "  </tbody>\n",
       "</table>\n",
       "</div>"
      ],
      "text/plain": [
       "   Student Teacher  Gender            Ethnic    Freeredu  Score       wesson  \\\n",
       "0      1.0   Ruger  Female             Asian  Free lunch   76.0  Ruger_Smith   \n",
       "1      2.0   Ruger  Female          Hispanic  Paid lunch   56.0  Ruger_Smith   \n",
       "2      3.0   Ruger  Female  African-American  Free lunch   34.0  Ruger_Smith   \n",
       "3      4.0   Ruger  Female             Asian  Paid lunch   59.0  Ruger_Smith   \n",
       "4      5.0   Ruger    Male          Hispanic  Free lunch   73.0  Ruger_Smith   \n",
       "\n",
       "     Method  \n",
       "0  Standard  \n",
       "1  Standard  \n",
       "2  Standard  \n",
       "3  Standard  \n",
       "4  Standard  "
      ]
     },
     "execution_count": 11,
     "metadata": {},
     "output_type": "execute_result"
    }
   ],
   "source": [
    "df.head()"
   ]
  },
  {
   "cell_type": "code",
   "execution_count": 12,
   "id": "49390491",
   "metadata": {
    "execution": {
     "iopub.execute_input": "2022-02-26T17:38:56.382728Z",
     "iopub.status.busy": "2022-02-26T17:38:56.381985Z",
     "iopub.status.idle": "2022-02-26T17:38:56.384874Z",
     "shell.execute_reply": "2022-02-26T17:38:56.385378Z",
     "shell.execute_reply.started": "2022-02-26T17:34:35.360841Z"
    },
    "papermill": {
     "duration": 0.067171,
     "end_time": "2022-02-26T17:38:56.385571",
     "exception": false,
     "start_time": "2022-02-26T17:38:56.318400",
     "status": "completed"
    },
    "tags": []
   },
   "outputs": [
    {
     "data": {
      "text/plain": [
       "Standard       140\n",
       "Traditional     76\n",
       "Name: Method, dtype: int64"
      ]
     },
     "execution_count": 12,
     "metadata": {},
     "output_type": "execute_result"
    }
   ],
   "source": [
    "df.Method.value_counts()"
   ]
  },
  {
   "cell_type": "code",
   "execution_count": 13,
   "id": "6fe585e0",
   "metadata": {
    "execution": {
     "iopub.execute_input": "2022-02-26T17:38:56.503846Z",
     "iopub.status.busy": "2022-02-26T17:38:56.503199Z",
     "iopub.status.idle": "2022-02-26T17:38:56.515700Z",
     "shell.execute_reply": "2022-02-26T17:38:56.516257Z",
     "shell.execute_reply.started": "2022-02-26T17:34:40.490771Z"
    },
    "papermill": {
     "duration": 0.075611,
     "end_time": "2022-02-26T17:38:56.516464",
     "exception": false,
     "start_time": "2022-02-26T17:38:56.440853",
     "status": "completed"
    },
    "tags": []
   },
   "outputs": [
    {
     "name": "stdout",
     "output_type": "stream",
     "text": [
      "<class 'pandas.core.frame.DataFrame'>\n",
      "Int64Index: 216 entries, 0 to 215\n",
      "Data columns (total 8 columns):\n",
      " #   Column    Non-Null Count  Dtype   \n",
      "---  ------    --------------  -----   \n",
      " 0   Student   216 non-null    float64 \n",
      " 1   Teacher   216 non-null    category\n",
      " 2   Gender    216 non-null    category\n",
      " 3   Ethnic    216 non-null    category\n",
      " 4   Freeredu  216 non-null    category\n",
      " 5   Score     216 non-null    float64 \n",
      " 6   wesson    216 non-null    category\n",
      " 7   Method    216 non-null    category\n",
      "dtypes: category(6), float64(2)\n",
      "memory usage: 7.1 KB\n"
     ]
    }
   ],
   "source": [
    "df.info()"
   ]
  },
  {
   "cell_type": "markdown",
   "id": "7a9cf502",
   "metadata": {
    "papermill": {
     "duration": 0.056725,
     "end_time": "2022-02-26T17:38:56.631292",
     "exception": false,
     "start_time": "2022-02-26T17:38:56.574567",
     "status": "completed"
    },
    "tags": []
   },
   "source": [
    "# Analysis"
   ]
  },
  {
   "cell_type": "markdown",
   "id": "2996fb59",
   "metadata": {
    "papermill": {
     "duration": 0.05911,
     "end_time": "2022-02-26T17:38:56.748415",
     "exception": false,
     "start_time": "2022-02-26T17:38:56.689305",
     "status": "completed"
    },
    "tags": []
   },
   "source": [
    "## Student's demographic"
   ]
  },
  {
   "cell_type": "markdown",
   "id": "c6ca1b4d",
   "metadata": {
    "papermill": {
     "duration": 0.055238,
     "end_time": "2022-02-26T17:38:56.859927",
     "exception": false,
     "start_time": "2022-02-26T17:38:56.804689",
     "status": "completed"
    },
    "tags": []
   },
   "source": [
    "First of all, lets examine the students in this dataset."
   ]
  },
  {
   "cell_type": "code",
   "execution_count": 14,
   "id": "4eaf5664",
   "metadata": {
    "execution": {
     "iopub.execute_input": "2022-02-26T17:38:56.977532Z",
     "iopub.status.busy": "2022-02-26T17:38:56.976783Z",
     "iopub.status.idle": "2022-02-26T17:38:57.192197Z",
     "shell.execute_reply": "2022-02-26T17:38:57.193137Z",
     "shell.execute_reply.started": "2022-02-26T17:34:50.315292Z"
    },
    "papermill": {
     "duration": 0.278014,
     "end_time": "2022-02-26T17:38:57.193487",
     "exception": false,
     "start_time": "2022-02-26T17:38:56.915473",
     "status": "completed"
    },
    "tags": []
   },
   "outputs": [
    {
     "data": {
      "image/png": "[encoded data removed]",
      "text/plain": [
       "<Figure size 720x720 with 1 Axes>"
      ]
     },
     "metadata": {},
     "output_type": "display_data"
    }
   ],
   "source": [
    "plt.figure(figsize = (10,10))\n",
    "plt.pie(df.Ethnic.value_counts().values, labels = df.Ethnic.value_counts().index, autopct = '%2.1f%%', textprops={'fontsize': 14})\n",
    "plt.title('Percentages of students according to ethnics')\n",
    "plt.show()"
   ]
  },
  {
   "cell_type": "markdown",
   "id": "dca3678f",
   "metadata": {
    "papermill": {
     "duration": 0.057458,
     "end_time": "2022-02-26T17:38:57.313518",
     "exception": false,
     "start_time": "2022-02-26T17:38:57.256060",
     "status": "completed"
    },
    "tags": []
   },
   "source": [
    "Majority of students are hispanic `30.6%` followed by Asian `24.5%`. Let's further examine the demographic of each ehnics."
   ]
  },
  {
   "cell_type": "code",
   "execution_count": 15,
   "id": "e2b65b37",
   "metadata": {
    "execution": {
     "iopub.execute_input": "2022-02-26T17:38:57.438337Z",
     "iopub.status.busy": "2022-02-26T17:38:57.437515Z",
     "iopub.status.idle": "2022-02-26T17:38:57.458072Z",
     "shell.execute_reply": "2022-02-26T17:38:57.457301Z",
     "shell.execute_reply.started": "2022-02-26T17:34:57.866947Z"
    },
    "papermill": {
     "duration": 0.087145,
     "end_time": "2022-02-26T17:38:57.458263",
     "exception": false,
     "start_time": "2022-02-26T17:38:57.371118",
     "status": "completed"
    },
    "tags": []
   },
   "outputs": [],
   "source": [
    "grouped_eg = pd.pivot_table(df, index = 'Ethnic', columns = 'Gender', aggfunc = 'count', values = 'Score')"
   ]
  },
  {
   "cell_type": "code",
   "execution_count": 16,
   "id": "ee5c2c31",
   "metadata": {
    "execution": {
     "iopub.execute_input": "2022-02-26T17:38:57.580757Z",
     "iopub.status.busy": "2022-02-26T17:38:57.580024Z",
     "iopub.status.idle": "2022-02-26T17:38:57.852220Z",
     "shell.execute_reply": "2022-02-26T17:38:57.852705Z",
     "shell.execute_reply.started": "2022-02-26T17:34:59.286904Z"
    },
    "papermill": {
     "duration": 0.333256,
     "end_time": "2022-02-26T17:38:57.852893",
     "exception": false,
     "start_time": "2022-02-26T17:38:57.519637",
     "status": "completed"
    },
    "tags": []
   },
   "outputs": [
    {
     "data": {
      "text/plain": [
       "<Figure size 1440x1440 with 0 Axes>"
      ]
     },
     "metadata": {},
     "output_type": "display_data"
    },
    {
     "data": {
      "image/png": "[encoded data removed]",
      "text/plain": [
       "<Figure size 432x288 with 1 Axes>"
      ]
     },
     "metadata": {
      "needs_background": "light"
     },
     "output_type": "display_data"
    }
   ],
   "source": [
    "plt.figure(figsize = (20,20))\n",
    "grouped_eg.plot(kind = 'bar')\n",
    "plt.title('Number of Students in all ethnics')\n",
    "plt.ylabel('Number of students')\n",
    "plt.show()"
   ]
  },
  {
   "cell_type": "code",
   "execution_count": 17,
   "id": "9d09f5d2",
   "metadata": {
    "execution": {
     "iopub.execute_input": "2022-02-26T17:38:57.974182Z",
     "iopub.status.busy": "2022-02-26T17:38:57.973477Z",
     "iopub.status.idle": "2022-02-26T17:38:57.982793Z",
     "shell.execute_reply": "2022-02-26T17:38:57.983362Z",
     "shell.execute_reply.started": "2022-02-26T17:35:05.926503Z"
    },
    "papermill": {
     "duration": 0.07166,
     "end_time": "2022-02-26T17:38:57.983550",
     "exception": false,
     "start_time": "2022-02-26T17:38:57.911890",
     "status": "completed"
    },
    "tags": []
   },
   "outputs": [
    {
     "data": {
      "text/html": [
       "<div>\n",
       "<style scoped>\n",
       "    .dataframe tbody tr th:only-of-type {\n",
       "        vertical-align: middle;\n",
       "    }\n",
       "\n",
       "    .dataframe tbody tr th {\n",
       "        vertical-align: top;\n",
       "    }\n",
       "\n",
       "    .dataframe thead th {\n",
       "        text-align: right;\n",
       "    }\n",
       "</style>\n",
       "<table border=\"1\" class=\"dataframe\">\n",
       "  <thead>\n",
       "    <tr style=\"text-align: right;\">\n",
       "      <th>Gender</th>\n",
       "      <th>Female</th>\n",
       "      <th>Male</th>\n",
       "    </tr>\n",
       "    <tr>\n",
       "      <th>Ethnic</th>\n",
       "      <th></th>\n",
       "      <th></th>\n",
       "    </tr>\n",
       "  </thead>\n",
       "  <tbody>\n",
       "    <tr>\n",
       "      <th>African-American</th>\n",
       "      <td>20</td>\n",
       "      <td>32</td>\n",
       "    </tr>\n",
       "    <tr>\n",
       "      <th>Asian</th>\n",
       "      <td>26</td>\n",
       "      <td>27</td>\n",
       "    </tr>\n",
       "    <tr>\n",
       "      <th>Caucasian</th>\n",
       "      <td>19</td>\n",
       "      <td>26</td>\n",
       "    </tr>\n",
       "    <tr>\n",
       "      <th>Hispanic</th>\n",
       "      <td>31</td>\n",
       "      <td>35</td>\n",
       "    </tr>\n",
       "  </tbody>\n",
       "</table>\n",
       "</div>"
      ],
      "text/plain": [
       "Gender            Female  Male\n",
       "Ethnic                        \n",
       "African-American      20    32\n",
       "Asian                 26    27\n",
       "Caucasian             19    26\n",
       "Hispanic              31    35"
      ]
     },
     "execution_count": 17,
     "metadata": {},
     "output_type": "execute_result"
    }
   ],
   "source": [
    "grouped_eg"
   ]
  },
  {
   "cell_type": "markdown",
   "id": "b01a6f7b",
   "metadata": {
    "papermill": {
     "duration": 0.058157,
     "end_time": "2022-02-26T17:38:58.101935",
     "exception": false,
     "start_time": "2022-02-26T17:38:58.043778",
     "status": "completed"
    },
    "tags": []
   },
   "source": [
    "For each ethnics, there are more male students than female students."
   ]
  },
  {
   "cell_type": "markdown",
   "id": "23ad6d96",
   "metadata": {
    "papermill": {
     "duration": 0.05988,
     "end_time": "2022-02-26T17:38:58.221037",
     "exception": false,
     "start_time": "2022-02-26T17:38:58.161157",
     "status": "completed"
    },
    "tags": []
   },
   "source": [
    "## Average score overall"
   ]
  },
  {
   "cell_type": "code",
   "execution_count": 18,
   "id": "d1b07220",
   "metadata": {
    "execution": {
     "iopub.execute_input": "2022-02-26T17:38:58.343194Z",
     "iopub.status.busy": "2022-02-26T17:38:58.342477Z",
     "iopub.status.idle": "2022-02-26T17:38:58.533830Z",
     "shell.execute_reply": "2022-02-26T17:38:58.533193Z",
     "shell.execute_reply.started": "2022-02-26T17:35:15.046095Z"
    },
    "papermill": {
     "duration": 0.254064,
     "end_time": "2022-02-26T17:38:58.534056",
     "exception": false,
     "start_time": "2022-02-26T17:38:58.279992",
     "status": "completed"
    },
    "tags": []
   },
   "outputs": [
    {
     "data": {
      "text/plain": [
       "<AxesSubplot:xlabel='Method', ylabel='Score'>"
      ]
     },
     "execution_count": 18,
     "metadata": {},
     "output_type": "execute_result"
    },
    {
     "data": {
      "image/png": "[encoded data removed]",
      "text/plain": [
       "<Figure size 432x288 with 1 Axes>"
      ]
     },
     "metadata": {
      "needs_background": "light"
     },
     "output_type": "display_data"
    }
   ],
   "source": [
    "sns.barplot(x='Method', y = 'Score', data = df, ci = None)"
   ]
  },
  {
   "cell_type": "code",
   "execution_count": 19,
   "id": "38b09ee3",
   "metadata": {
    "execution": {
     "iopub.execute_input": "2022-02-26T17:38:58.669493Z",
     "iopub.status.busy": "2022-02-26T17:38:58.668626Z",
     "iopub.status.idle": "2022-02-26T17:38:58.672906Z",
     "shell.execute_reply": "2022-02-26T17:38:58.673456Z",
     "shell.execute_reply.started": "2022-02-26T17:35:19.534421Z"
    },
    "papermill": {
     "duration": 0.075781,
     "end_time": "2022-02-26T17:38:58.673652",
     "exception": false,
     "start_time": "2022-02-26T17:38:58.597871",
     "status": "completed"
    },
    "tags": []
   },
   "outputs": [
    {
     "name": "stdout",
     "output_type": "stream",
     "text": [
      "Average score using Standard method: 62.33571428571429\n",
      "Average score using Traditional method: 70.6842105263158\n"
     ]
    }
   ],
   "source": [
    "print('Average score using Standard method: {}'.format(np.mean(df.Score[df.Method == 'Standard'])))\n",
    "print('Average score using Traditional method: {}'.format(np.mean(df.Score[df.Method == 'Traditional'])))"
   ]
  },
  {
   "cell_type": "markdown",
   "id": "e604ac6c",
   "metadata": {
    "papermill": {
     "duration": 0.063894,
     "end_time": "2022-02-26T17:38:58.799262",
     "exception": false,
     "start_time": "2022-02-26T17:38:58.735368",
     "status": "completed"
    },
    "tags": []
   },
   "source": [
    "Overall, Traditional method result higher math score in average compared to standard method."
   ]
  },
  {
   "cell_type": "markdown",
   "id": "e8e9cfe7",
   "metadata": {
    "papermill": {
     "duration": 0.063425,
     "end_time": "2022-02-26T17:38:58.924367",
     "exception": false,
     "start_time": "2022-02-26T17:38:58.860942",
     "status": "completed"
    },
    "tags": []
   },
   "source": [
    "## Average score in ethnics"
   ]
  },
  {
   "cell_type": "code",
   "execution_count": 20,
   "id": "572022f8",
   "metadata": {
    "execution": {
     "iopub.execute_input": "2022-02-26T17:38:59.061616Z",
     "iopub.status.busy": "2022-02-26T17:38:59.060561Z",
     "iopub.status.idle": "2022-02-26T17:38:59.353436Z",
     "shell.execute_reply": "2022-02-26T17:38:59.352816Z",
     "shell.execute_reply.started": "2022-02-26T17:35:26.752707Z"
    },
    "papermill": {
     "duration": 0.367115,
     "end_time": "2022-02-26T17:38:59.353616",
     "exception": false,
     "start_time": "2022-02-26T17:38:58.986501",
     "status": "completed"
    },
    "tags": []
   },
   "outputs": [
    {
     "data": {
      "text/plain": [
       "Text(0.5, 1.0, 'Average Math Score by Ethnics')"
      ]
     },
     "execution_count": 20,
     "metadata": {},
     "output_type": "execute_result"
    },
    {
     "data": {
      "image/png": "[encoded data removed]",
      "text/plain": [
       "<Figure size 720x576 with 1 Axes>"
      ]
     },
     "metadata": {
      "needs_background": "light"
     },
     "output_type": "display_data"
    }
   ],
   "source": [
    "plt.figure(figsize=(10,8))\n",
    "sns.barplot(x = 'Ethnic', y = 'Score', hue = 'Gender', data = df, ci = None, palette = 'Blues_d')\n",
    "plt.title('Average Math Score by Ethnics')"
   ]
  },
  {
   "cell_type": "code",
   "execution_count": 21,
   "id": "f90172fc",
   "metadata": {
    "execution": {
     "iopub.execute_input": "2022-02-26T17:38:59.488122Z",
     "iopub.status.busy": "2022-02-26T17:38:59.487011Z",
     "iopub.status.idle": "2022-02-26T17:38:59.521685Z",
     "shell.execute_reply": "2022-02-26T17:38:59.520884Z",
     "shell.execute_reply.started": "2022-02-26T17:35:31.189596Z"
    },
    "papermill": {
     "duration": 0.103441,
     "end_time": "2022-02-26T17:38:59.521935",
     "exception": false,
     "start_time": "2022-02-26T17:38:59.418494",
     "status": "completed"
    },
    "tags": []
   },
   "outputs": [
    {
     "data": {
      "text/html": [
       "<div>\n",
       "<style scoped>\n",
       "    .dataframe tbody tr th:only-of-type {\n",
       "        vertical-align: middle;\n",
       "    }\n",
       "\n",
       "    .dataframe tbody tr th {\n",
       "        vertical-align: top;\n",
       "    }\n",
       "\n",
       "    .dataframe thead th {\n",
       "        text-align: right;\n",
       "    }\n",
       "</style>\n",
       "<table border=\"1\" class=\"dataframe\">\n",
       "  <thead>\n",
       "    <tr style=\"text-align: right;\">\n",
       "      <th>Ethnic</th>\n",
       "      <th>African-American</th>\n",
       "      <th>Asian</th>\n",
       "      <th>Caucasian</th>\n",
       "      <th>Hispanic</th>\n",
       "    </tr>\n",
       "    <tr>\n",
       "      <th>Gender</th>\n",
       "      <th></th>\n",
       "      <th></th>\n",
       "      <th></th>\n",
       "      <th></th>\n",
       "    </tr>\n",
       "  </thead>\n",
       "  <tbody>\n",
       "    <tr>\n",
       "      <th>Female</th>\n",
       "      <td>66.05</td>\n",
       "      <td>68.38</td>\n",
       "      <td>70.63</td>\n",
       "      <td>66.26</td>\n",
       "    </tr>\n",
       "    <tr>\n",
       "      <th>Male</th>\n",
       "      <td>66.34</td>\n",
       "      <td>63.11</td>\n",
       "      <td>59.73</td>\n",
       "      <td>63.54</td>\n",
       "    </tr>\n",
       "  </tbody>\n",
       "</table>\n",
       "</div>"
      ],
      "text/plain": [
       "Ethnic  African-American  Asian  Caucasian  Hispanic\n",
       "Gender                                              \n",
       "Female             66.05  68.38      70.63     66.26\n",
       "Male               66.34  63.11      59.73     63.54"
      ]
     },
     "execution_count": 21,
     "metadata": {},
     "output_type": "execute_result"
    }
   ],
   "source": [
    "np.round(pd.pivot_table(df, index = 'Gender', columns = 'Ethnic', values = 'Score'), 2)"
   ]
  },
  {
   "cell_type": "markdown",
   "id": "8966f9ee",
   "metadata": {
    "papermill": {
     "duration": 0.071852,
     "end_time": "2022-02-26T17:38:59.674119",
     "exception": false,
     "start_time": "2022-02-26T17:38:59.602267",
     "status": "completed"
    },
    "tags": []
   },
   "source": [
    "If we dive into each of the ethnics, female students perform better compared to male students in Asian, Caucasian and Hispanic. However, male students in African-American perform slightly better than female students."
   ]
  },
  {
   "cell_type": "code",
   "execution_count": 22,
   "id": "abf29ca7",
   "metadata": {
    "execution": {
     "iopub.execute_input": "2022-02-26T17:38:59.821348Z",
     "iopub.status.busy": "2022-02-26T17:38:59.820078Z",
     "iopub.status.idle": "2022-02-26T17:38:59.823637Z",
     "shell.execute_reply": "2022-02-26T17:38:59.822921Z",
     "shell.execute_reply.started": "2022-02-26T17:35:36.442978Z"
    },
    "papermill": {
     "duration": 0.079935,
     "end_time": "2022-02-26T17:38:59.823813",
     "exception": false,
     "start_time": "2022-02-26T17:38:59.743878",
     "status": "completed"
    },
    "tags": []
   },
   "outputs": [],
   "source": [
    "df_trad = df[df.Method == 'Traditional']\n",
    "df_stan = df[df.Method == 'Standard']"
   ]
  },
  {
   "cell_type": "code",
   "execution_count": 23,
   "id": "9440ee85",
   "metadata": {
    "execution": {
     "iopub.execute_input": "2022-02-26T17:38:59.966022Z",
     "iopub.status.busy": "2022-02-26T17:38:59.964946Z",
     "iopub.status.idle": "2022-02-26T17:39:00.182737Z",
     "shell.execute_reply": "2022-02-26T17:39:00.183262Z",
     "shell.execute_reply.started": "2022-02-26T17:35:38.258682Z"
    },
    "papermill": {
     "duration": 0.29318,
     "end_time": "2022-02-26T17:39:00.183477",
     "exception": false,
     "start_time": "2022-02-26T17:38:59.890297",
     "status": "completed"
    },
    "tags": []
   },
   "outputs": [
    {
     "data": {
      "text/plain": [
       "Text(0.5, 1.0, 'average math score using traditional method')"
      ]
     },
     "execution_count": 23,
     "metadata": {},
     "output_type": "execute_result"
    },
    {
     "data": {
      "image/png": "[encoded data removed]",
      "text/plain": [
       "<Figure size 432x288 with 1 Axes>"
      ]
     },
     "metadata": {
      "needs_background": "light"
     },
     "output_type": "display_data"
    }
   ],
   "source": [
    "sns.barplot(data = df_trad, x='Ethnic', y='Score', ci=None, order = ['Asian', 'African-American', 'Hispanic', 'Caucasian'], palette = 'flare_r')\n",
    "plt.title('average math score using traditional method')"
   ]
  },
  {
   "cell_type": "code",
   "execution_count": 24,
   "id": "7ae95dd2",
   "metadata": {
    "execution": {
     "iopub.execute_input": "2022-02-26T17:39:00.322983Z",
     "iopub.status.busy": "2022-02-26T17:39:00.322293Z",
     "iopub.status.idle": "2022-02-26T17:39:00.326882Z",
     "shell.execute_reply": "2022-02-26T17:39:00.326213Z",
     "shell.execute_reply.started": "2022-02-26T17:35:42.348048Z"
    },
    "papermill": {
     "duration": 0.078843,
     "end_time": "2022-02-26T17:39:00.327052",
     "exception": false,
     "start_time": "2022-02-26T17:39:00.248209",
     "status": "completed"
    },
    "tags": []
   },
   "outputs": [
    {
     "data": {
      "text/plain": [
       "Ethnic\n",
       "African-American    72.89\n",
       "Asian               73.19\n",
       "Caucasian           66.32\n",
       "Hispanic            70.83\n",
       "Name: Score, dtype: float64"
      ]
     },
     "execution_count": 24,
     "metadata": {},
     "output_type": "execute_result"
    }
   ],
   "source": [
    "np.round(df_trad.groupby('Ethnic')['Score'].mean(), 2)"
   ]
  },
  {
   "cell_type": "markdown",
   "id": "8db1936b",
   "metadata": {
    "papermill": {
     "duration": 0.064726,
     "end_time": "2022-02-26T17:39:00.456327",
     "exception": false,
     "start_time": "2022-02-26T17:39:00.391601",
     "status": "completed"
    },
    "tags": []
   },
   "source": [
    "Most of the students got score on average above 70 using traditional method except caucasian students that only get on average 66.32%."
   ]
  },
  {
   "cell_type": "code",
   "execution_count": 25,
   "id": "623607f8",
   "metadata": {
    "execution": {
     "iopub.execute_input": "2022-02-26T17:39:00.618757Z",
     "iopub.status.busy": "2022-02-26T17:39:00.593399Z",
     "iopub.status.idle": "2022-02-26T17:39:00.813226Z",
     "shell.execute_reply": "2022-02-26T17:39:00.813789Z",
     "shell.execute_reply.started": "2022-02-26T17:35:46.367207Z"
    },
    "papermill": {
     "duration": 0.293181,
     "end_time": "2022-02-26T17:39:00.814028",
     "exception": false,
     "start_time": "2022-02-26T17:39:00.520847",
     "status": "completed"
    },
    "tags": []
   },
   "outputs": [
    {
     "data": {
      "text/plain": [
       "Text(0.5, 1.0, 'average math score using standard method')"
      ]
     },
     "execution_count": 25,
     "metadata": {},
     "output_type": "execute_result"
    },
    {
     "data": {
      "image/png": "[encoded data removed]",
      "text/plain": [
       "<Figure size 432x288 with 1 Axes>"
      ]
     },
     "metadata": {
      "needs_background": "light"
     },
     "output_type": "display_data"
    }
   ],
   "source": [
    "sns.barplot(data = df_stan, x='Ethnic', y='Score', ci=None, order = ['Caucasian', 'African-American', 'Asian', 'Hispanic'], palette = 'autumn')\n",
    "plt.title('average math score using standard method')"
   ]
  },
  {
   "cell_type": "code",
   "execution_count": 26,
   "id": "f7b32c1c",
   "metadata": {
    "execution": {
     "iopub.execute_input": "2022-02-26T17:39:00.959087Z",
     "iopub.status.busy": "2022-02-26T17:39:00.958069Z",
     "iopub.status.idle": "2022-02-26T17:39:00.965399Z",
     "shell.execute_reply": "2022-02-26T17:39:00.965850Z",
     "shell.execute_reply.started": "2022-02-26T17:35:51.421534Z"
    },
    "papermill": {
     "duration": 0.079796,
     "end_time": "2022-02-26T17:39:00.966064",
     "exception": false,
     "start_time": "2022-02-26T17:39:00.886268",
     "status": "completed"
    },
    "tags": []
   },
   "outputs": [
    {
     "data": {
      "text/plain": [
       "Ethnic\n",
       "African-American    62.71\n",
       "Asian               62.46\n",
       "Caucasian           62.88\n",
       "Hispanic            61.60\n",
       "Name: Score, dtype: float64"
      ]
     },
     "execution_count": 26,
     "metadata": {},
     "output_type": "execute_result"
    }
   ],
   "source": [
    "np.round(df_stan.groupby('Ethnic')['Score'].mean(), 2)"
   ]
  },
  {
   "cell_type": "markdown",
   "id": "9dd40875",
   "metadata": {
    "papermill": {
     "duration": 0.067452,
     "end_time": "2022-02-26T17:39:01.100105",
     "exception": false,
     "start_time": "2022-02-26T17:39:01.032653",
     "status": "completed"
    },
    "tags": []
   },
   "source": [
    "Using standard method, every students achieve score above 60% but still less compared to students learnt using traditional method."
   ]
  },
  {
   "cell_type": "markdown",
   "id": "f9cbe80a",
   "metadata": {
    "papermill": {
     "duration": 0.06584,
     "end_time": "2022-02-26T17:39:01.233675",
     "exception": false,
     "start_time": "2022-02-26T17:39:01.167835",
     "status": "completed"
    },
    "tags": []
   },
   "source": [
    "## Average score by each teacher"
   ]
  },
  {
   "cell_type": "code",
   "execution_count": 27,
   "id": "c2c2f069",
   "metadata": {
    "execution": {
     "iopub.execute_input": "2022-02-26T17:39:01.371522Z",
     "iopub.status.busy": "2022-02-26T17:39:01.370741Z",
     "iopub.status.idle": "2022-02-26T17:39:01.565208Z",
     "shell.execute_reply": "2022-02-26T17:39:01.564613Z",
     "shell.execute_reply.started": "2022-02-26T17:35:57.040369Z"
    },
    "papermill": {
     "duration": 0.265054,
     "end_time": "2022-02-26T17:39:01.565358",
     "exception": false,
     "start_time": "2022-02-26T17:39:01.300304",
     "status": "completed"
    },
    "tags": []
   },
   "outputs": [
    {
     "data": {
      "text/plain": [
       "<AxesSubplot:xlabel='Teacher', ylabel='Score'>"
      ]
     },
     "execution_count": 27,
     "metadata": {},
     "output_type": "execute_result"
    },
    {
     "data": {
      "image/png": "[encoded data removed]",
      "text/plain": [
       "<Figure size 432x288 with 1 Axes>"
      ]
     },
     "metadata": {
      "needs_background": "light"
     },
     "output_type": "display_data"
    }
   ],
   "source": [
    "sns.barplot(x='Teacher', y = 'Score', data = df, ci = None, order = ['Wesson', 'Smith', 'Ruger'], palette = 'Purples_r')"
   ]
  },
  {
   "cell_type": "code",
   "execution_count": 28,
   "id": "ea30daba",
   "metadata": {
    "execution": {
     "iopub.execute_input": "2022-02-26T17:39:01.707698Z",
     "iopub.status.busy": "2022-02-26T17:39:01.707049Z",
     "iopub.status.idle": "2022-02-26T17:39:01.716165Z",
     "shell.execute_reply": "2022-02-26T17:39:01.716715Z",
     "shell.execute_reply.started": "2022-02-26T17:36:00.311068Z"
    },
    "papermill": {
     "duration": 0.081212,
     "end_time": "2022-02-26T17:39:01.716883",
     "exception": false,
     "start_time": "2022-02-26T17:39:01.635671",
     "status": "completed"
    },
    "tags": []
   },
   "outputs": [
    {
     "data": {
      "text/plain": [
       "Teacher\n",
       "Ruger     55.267606\n",
       "Smith     69.608696\n",
       "Wesson    70.684211\n",
       "Name: Score, dtype: float64"
      ]
     },
     "execution_count": 28,
     "metadata": {},
     "output_type": "execute_result"
    }
   ],
   "source": [
    "df.groupby('Teacher')['Score'].mean()"
   ]
  },
  {
   "cell_type": "markdown",
   "id": "2d3a2d81",
   "metadata": {
    "papermill": {
     "duration": 0.066956,
     "end_time": "2022-02-26T17:39:01.854683",
     "exception": false,
     "start_time": "2022-02-26T17:39:01.787727",
     "status": "completed"
    },
    "tags": []
   },
   "source": [
    "Overall, Wesson's method yield the highest average score."
   ]
  },
  {
   "cell_type": "markdown",
   "id": "9f5b466f",
   "metadata": {
    "papermill": {
     "duration": 0.066908,
     "end_time": "2022-02-26T17:39:01.989072",
     "exception": false,
     "start_time": "2022-02-26T17:39:01.922164",
     "status": "completed"
    },
    "tags": []
   },
   "source": [
    "## Average score in each ethnics by each teacher"
   ]
  },
  {
   "cell_type": "code",
   "execution_count": 29,
   "id": "541948ac",
   "metadata": {
    "execution": {
     "iopub.execute_input": "2022-02-26T17:39:02.129439Z",
     "iopub.status.busy": "2022-02-26T17:39:02.128784Z",
     "iopub.status.idle": "2022-02-26T17:39:02.152808Z",
     "shell.execute_reply": "2022-02-26T17:39:02.153407Z",
     "shell.execute_reply.started": "2022-02-26T17:36:13.314808Z"
    },
    "papermill": {
     "duration": 0.096003,
     "end_time": "2022-02-26T17:39:02.153578",
     "exception": false,
     "start_time": "2022-02-26T17:39:02.057575",
     "status": "completed"
    },
    "tags": []
   },
   "outputs": [
    {
     "data": {
      "text/html": [
       "<div>\n",
       "<style scoped>\n",
       "    .dataframe tbody tr th:only-of-type {\n",
       "        vertical-align: middle;\n",
       "    }\n",
       "\n",
       "    .dataframe tbody tr th {\n",
       "        vertical-align: top;\n",
       "    }\n",
       "\n",
       "    .dataframe thead th {\n",
       "        text-align: right;\n",
       "    }\n",
       "</style>\n",
       "<table border=\"1\" class=\"dataframe\">\n",
       "  <thead>\n",
       "    <tr style=\"text-align: right;\">\n",
       "      <th>Ethnic</th>\n",
       "      <th>African-American</th>\n",
       "      <th>Asian</th>\n",
       "      <th>Caucasian</th>\n",
       "      <th>Hispanic</th>\n",
       "    </tr>\n",
       "    <tr>\n",
       "      <th>Teacher</th>\n",
       "      <th></th>\n",
       "      <th></th>\n",
       "      <th></th>\n",
       "      <th></th>\n",
       "    </tr>\n",
       "  </thead>\n",
       "  <tbody>\n",
       "    <tr>\n",
       "      <th>Ruger</th>\n",
       "      <td>55.222222</td>\n",
       "      <td>53.705882</td>\n",
       "      <td>56.909091</td>\n",
       "      <td>55.640000</td>\n",
       "    </tr>\n",
       "    <tr>\n",
       "      <th>Smith</th>\n",
       "      <td>71.125000</td>\n",
       "      <td>69.900000</td>\n",
       "      <td>67.266667</td>\n",
       "      <td>69.888889</td>\n",
       "    </tr>\n",
       "    <tr>\n",
       "      <th>Wesson</th>\n",
       "      <td>72.888889</td>\n",
       "      <td>73.187500</td>\n",
       "      <td>66.315789</td>\n",
       "      <td>70.826087</td>\n",
       "    </tr>\n",
       "  </tbody>\n",
       "</table>\n",
       "</div>"
      ],
      "text/plain": [
       "Ethnic   African-American      Asian  Caucasian   Hispanic\n",
       "Teacher                                                   \n",
       "Ruger           55.222222  53.705882  56.909091  55.640000\n",
       "Smith           71.125000  69.900000  67.266667  69.888889\n",
       "Wesson          72.888889  73.187500  66.315789  70.826087"
      ]
     },
     "execution_count": 29,
     "metadata": {},
     "output_type": "execute_result"
    }
   ],
   "source": [
    "pd.pivot_table(index = 'Teacher', columns = 'Ethnic', values = 'Score', data = df)"
   ]
  },
  {
   "cell_type": "code",
   "execution_count": 30,
   "id": "d6114084",
   "metadata": {
    "execution": {
     "iopub.execute_input": "2022-02-26T17:39:02.293154Z",
     "iopub.status.busy": "2022-02-26T17:39:02.292488Z",
     "iopub.status.idle": "2022-02-26T17:39:02.595391Z",
     "shell.execute_reply": "2022-02-26T17:39:02.594797Z",
     "shell.execute_reply.started": "2022-02-26T17:36:26.225488Z"
    },
    "papermill": {
     "duration": 0.373798,
     "end_time": "2022-02-26T17:39:02.595553",
     "exception": false,
     "start_time": "2022-02-26T17:39:02.221755",
     "status": "completed"
    },
    "tags": []
   },
   "outputs": [
    {
     "data": {
      "text/plain": [
       "Text(0.5, 1.0, 'Students performance compared to each teacher')"
      ]
     },
     "execution_count": 30,
     "metadata": {},
     "output_type": "execute_result"
    },
    {
     "data": {
      "image/png": "[encoded data removed]",
      "text/plain": [
       "<Figure size 720x432 with 1 Axes>"
      ]
     },
     "metadata": {
      "needs_background": "light"
     },
     "output_type": "display_data"
    }
   ],
   "source": [
    "plt.figure(figsize = (10,6))\n",
    "sns.barplot(data = df, x = 'Ethnic', y = 'Score', hue = 'Teacher', ci = None, palette = 'pastel')\n",
    "plt.title('Students performance compared to each teacher')"
   ]
  },
  {
   "cell_type": "markdown",
   "id": "704788de",
   "metadata": {
    "papermill": {
     "duration": 0.072066,
     "end_time": "2022-02-26T17:39:02.738172",
     "exception": false,
     "start_time": "2022-02-26T17:39:02.666106",
     "status": "completed"
    },
    "tags": []
   },
   "source": [
    "African-American, Asian and Hispanic students who taught by Wesson achieve higher score compared to others. Meanwhile, Caucasian students who taught by Smith achieve high score. Clearly we can observe that students who taught by Ruger achieve low math score across all ethnics."
   ]
  },
  {
   "cell_type": "markdown",
   "id": "45560546",
   "metadata": {
    "papermill": {
     "duration": 0.071478,
     "end_time": "2022-02-26T17:39:02.880537",
     "exception": false,
     "start_time": "2022-02-26T17:39:02.809059",
     "status": "completed"
    },
    "tags": []
   },
   "source": [
    "# Summary"
   ]
  },
  {
   "cell_type": "markdown",
   "id": "86c39f1b",
   "metadata": {
    "papermill": {
     "duration": 0.071142,
     "end_time": "2022-02-26T17:39:03.023035",
     "exception": false,
     "start_time": "2022-02-26T17:39:02.951893",
     "status": "completed"
    },
    "tags": []
   },
   "source": [
    "In conclusion, traditional method indeed resulted higher math score for students of African-American, Asian and Hispanic. However, Smith's teaching method suits caucasian students as it yield slightly higher average score than wesson's. the analysis also showed that Ruger's teaching method resulted lower math score compared to others. Hence, it is not appropriate to make conclusion that traditional method is more superior because Smith's standard teaching method also yield high math score although it slightly lower than Wesson's traditional teaching method.\n",
    "\n",
    "Thus, what the school should do is tackle the problem of Ruger's teaching capability at the school. Maybe the students' find it hard to understand what Ruger taught in class."
   ]
  }
 ],
 "metadata": {
  "kernelspec": {
   "display_name": "Python 3",
   "language": "python",
   "name": "python3"
  },
  "language_info": {
   "codemirror_mode": {
    "name": "ipython",
    "version": 3
   },
   "file_extension": ".py",
   "mimetype": "text/x-python",
   "name": "python",
   "nbconvert_exporter": "python",
   "pygments_lexer": "ipython3",
   "version": "3.7.12"
  },
  "papermill": {
   "default_parameters": {},
   "duration": 36.49042,
   "end_time": "2022-02-26T17:39:04.207174",
   "environment_variables": {},
   "exception": null,
   "input_path": "__notebook__.ipynb",
   "output_path": "__notebook__.ipynb",
   "parameters": {},
   "start_time": "2022-02-26T17:38:27.716754",
   "version": "2.3.3"
  }
 },
 "nbformat": 4,
 "nbformat_minor": 5
}
