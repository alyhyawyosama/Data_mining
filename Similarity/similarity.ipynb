{
 "cells": [
  {
   "cell_type": "code",
   "execution_count": 1,
   "metadata": {},
   "outputs": [
    {
     "name": "stdout",
     "output_type": "stream",
     "text": [
      "Cosine Similarity: 0.5185449728701348\n",
      "Cosine Distance: 0.4814550271298652\n"
     ]
    }
   ],
   "source": [
    "import numpy as np\n",
    "from sklearn.metrics.pairwise import cosine_similarity\n",
    "\n",
    "# Define the two vectors representing your documents\n",
    "doc1 = np.array([3, 2, 0, 1, 4])\n",
    "doc2 = np.array([1, 3, 1, 2, 0])\n",
    "\n",
    "# Calculate cosine similarity\n",
    "cosine_sim = cosine_similarity([doc1], [doc2])[0][0]\n",
    "\n",
    "# Calculate cosine distance (complement of cosine similarity)\n",
    "cosine_dist = 1 - cosine_sim\n",
    "\n",
    "print(f\"Cosine Similarity: {cosine_sim}\")\n",
    "print(f\"Cosine Distance: {cosine_dist}\")"
   ]
  }
 ],
 "metadata": {
  "kernelspec": {
   "display_name": "base",
   "language": "python",
   "name": "python3"
  },
  "language_info": {
   "codemirror_mode": {
    "name": "ipython",
    "version": 3
   },
   "file_extension": ".py",
   "mimetype": "text/x-python",
   "name": "python",
   "nbconvert_exporter": "python",
   "pygments_lexer": "ipython3",
   "version": "3.8.5"
  }
 },
 "nbformat": 4,
 "nbformat_minor": 2
}
